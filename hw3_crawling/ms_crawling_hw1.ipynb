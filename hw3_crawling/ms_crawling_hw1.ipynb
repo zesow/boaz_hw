{
 "cells": [
  {
   "cell_type": "code",
   "execution_count": 15,
   "metadata": {},
   "outputs": [],
   "source": [
    "from selenium import webdriver\n",
    "from bs4 import BeautifulSoup"
   ]
  },
  {
   "cell_type": "markdown",
   "metadata": {},
   "source": [
    "## 웹드라이버 import"
   ]
  },
  {
   "cell_type": "code",
   "execution_count": 16,
   "metadata": {},
   "outputs": [],
   "source": [
    "driver = webdriver.Chrome('/Users/yumunsang/Documents/2018summer/boaz/chromedriver')\n",
    "driver.implicitly_wait(3)"
   ]
  },
  {
   "cell_type": "markdown",
   "metadata": {},
   "source": [
    "## url 접속 "
   ]
  },
  {
   "cell_type": "code",
   "execution_count": 17,
   "metadata": {},
   "outputs": [],
   "source": [
    "# url에 접근한다.\n",
    "driver.get('https://nid.naver.com/nidlogin.login')"
   ]
  },
  {
   "cell_type": "markdown",
   "metadata": {},
   "source": [
    "## 로그인 하기"
   ]
  },
  {
   "cell_type": "code",
   "execution_count": 18,
   "metadata": {},
   "outputs": [],
   "source": [
    "driver.find_element_by_name('id').send_keys('')\n",
    "driver.find_element_by_name('pw').send_keys('')\n",
    "driver.find_element_by_xpath('//*[@id=\"frmNIDLogin\"]/fieldset/input').click()"
   ]
  },
  {
   "cell_type": "markdown",
   "metadata": {},
   "source": [
    "## 카페에 접속 & html 가져오기"
   ]
  },
  {
   "cell_type": "code",
   "execution_count": 19,
   "metadata": {},
   "outputs": [],
   "source": [
    "driver.get('https://cafe.naver.com/boazbigdata')\n",
    "html = driver.page_source\n",
    "bsObj = BeautifulSoup(html,'html.parser')\n"
   ]
  },
  {
   "cell_type": "markdown",
   "metadata": {},
   "source": [
    "## 이름만 긁어오기"
   ]
  },
  {
   "cell_type": "code",
   "execution_count": 32,
   "metadata": {},
   "outputs": [
    {
     "name": "stdout",
     "output_type": "stream",
     "text": [
      "파이썬 기초1\n",
      "파이썬 기초2\n",
      "sql 과 파이썬 연동\n",
      "선형대수1\n",
      "Cs강의\n",
      "포스코 AI\n",
      "SAS\n",
      "Rshiny 심화\n",
      "파이썬 웹 프로그래밍\n",
      "일러스트레이터\n",
      "R기초\n",
      "파이썬 심화\n",
      "파이썬 텍스트마이닝\n",
      "파이썬 크롤링\n",
      "딥러닝 기초\n",
      "인터렉티브 시각화\n",
      "선형대수2\n",
      "멘토멘티A조\n",
      "멘토멘티B조\n",
      "멘토멘티C조\n",
      "멘토멘티D조\n",
      "멘토멘티E조\n",
      "18-2(방학중)스터디 신청\n"
     ]
    }
   ],
   "source": [
    "subjects = bsObj.find('ul',{'id':'group433'}).findAll('a',{'class':'gm-tcol-c'})\n",
    "\n",
    "for subject in subjects:\n",
    "    sub = subject.get_text().strip()\n",
    "    print(sub)\n",
    "\n"
   ]
  },
  {
   "cell_type": "code",
   "execution_count": null,
   "metadata": {},
   "outputs": [],
   "source": []
  }
 ],
 "metadata": {
  "kernelspec": {
   "display_name": "boazselenium",
   "language": "python",
   "name": "selenium"
  },
  "language_info": {
   "codemirror_mode": {
    "name": "ipython",
    "version": 3
   },
   "file_extension": ".py",
   "mimetype": "text/x-python",
   "name": "python",
   "nbconvert_exporter": "python",
   "pygments_lexer": "ipython3",
   "version": "3.6.0"
  }
 },
 "nbformat": 4,
 "nbformat_minor": 2
}
